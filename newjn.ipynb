{
 "cells": [
  {
   "cell_type": "code",
   "execution_count": 1,
   "metadata": {},
   "outputs": [],
   "source": [
    "import pandas as pd\n",
    "import re\n",
    "import matplotlib.pyplot as plt\n",
    "import math\n",
    "import numpy as np\n",
    "import random\n",
    "import pandas as pd\n",
    "from sklearn.cluster import KMeans\n",
    "import re\n"
   ]
  },
  {
   "cell_type": "code",
   "execution_count": 2,
   "metadata": {},
   "outputs": [],
   "source": [
    "# lets load data\n",
    "txt_file = \"vrp data.txt\"\n",
    "data = []\n",
    "with open(txt_file, \"r\") as file:\n",
    "    lines = file.readlines()  # Read all lines in the file\n",
    "    column_parsed = False\n",
    "    column_names = []\n",
    "    if column_parsed == False:\n",
    "        # Extract column names from first line\n",
    "        words = re.findall(\"\\S+\", lines[0])\n",
    "        for word in words:\n",
    "            column_names.append(word)\n",
    "        column_parsed = True\n",
    "\n",
    "    for line in lines[1:]:  # Loop through lines, skipping the first line\n",
    "        # Extract data points from line\n",
    "        dataline = re.findall(\"\\S+\", line)\n",
    "        line_dict = {}\n",
    "        for i, point in enumerate(dataline):\n",
    "            # Convert data point to float and store in dictionary\n",
    "            line_dict[column_names[i]] = float(point)\n",
    "        data.append(line_dict)  # Append dictionary to list of data\n",
    "\n",
    "# Create pandas dataframe from list of dictionaries\n",
    "customers_df = pd.DataFrame(data)\n"
   ]
  },
  {
   "cell_type": "code",
   "execution_count": 3,
   "metadata": {},
   "outputs": [],
   "source": [
    "DEPOT = customers_df[:1]"
   ]
  },
  {
   "cell_type": "code",
   "execution_count": 4,
   "metadata": {},
   "outputs": [
    {
     "data": {
      "text/html": [
       "<div>\n",
       "<style scoped>\n",
       "    .dataframe tbody tr th:only-of-type {\n",
       "        vertical-align: middle;\n",
       "    }\n",
       "\n",
       "    .dataframe tbody tr th {\n",
       "        vertical-align: top;\n",
       "    }\n",
       "\n",
       "    .dataframe thead th {\n",
       "        text-align: right;\n",
       "    }\n",
       "</style>\n",
       "<table border=\"1\" class=\"dataframe\">\n",
       "  <thead>\n",
       "    <tr style=\"text-align: right;\">\n",
       "      <th></th>\n",
       "      <th>CUST_NO</th>\n",
       "      <th>XCOORD</th>\n",
       "      <th>YCOORD</th>\n",
       "      <th>DEMAND</th>\n",
       "      <th>READY_TIME</th>\n",
       "      <th>DUE_DATE</th>\n",
       "      <th>SERVICE_TIME</th>\n",
       "    </tr>\n",
       "  </thead>\n",
       "  <tbody>\n",
       "    <tr>\n",
       "      <th>0</th>\n",
       "      <td>1.0</td>\n",
       "      <td>35.0</td>\n",
       "      <td>35.0</td>\n",
       "      <td>0.0</td>\n",
       "      <td>0.0</td>\n",
       "      <td>230.0</td>\n",
       "      <td>0.0</td>\n",
       "    </tr>\n",
       "  </tbody>\n",
       "</table>\n",
       "</div>"
      ],
      "text/plain": [
       "   CUST_NO  XCOORD  YCOORD  DEMAND  READY_TIME  DUE_DATE  SERVICE_TIME\n",
       "0      1.0    35.0    35.0     0.0         0.0     230.0           0.0"
      ]
     },
     "execution_count": 4,
     "metadata": {},
     "output_type": "execute_result"
    }
   ],
   "source": [
    "DEPOT"
   ]
  },
  {
   "cell_type": "code",
   "execution_count": 5,
   "metadata": {},
   "outputs": [],
   "source": [
    "customers_df = customers_df[1:]"
   ]
  },
  {
   "cell_type": "code",
   "execution_count": 6,
   "metadata": {},
   "outputs": [],
   "source": [
    "#getting distance from depot for all points \n",
    "def get_distance_between_two_points(x1,y1,x2,y2):\n",
    "    x_diff = x2-x1\n",
    "    y_diff = y2-y1\n",
    "\n",
    "    dist = math.sqrt(math.pow(x_diff, 2) + math.pow(y_diff, 2))\n",
    "    return dist\n",
    "\n"
   ]
  },
  {
   "cell_type": "code",
   "execution_count": 7,
   "metadata": {},
   "outputs": [],
   "source": [
    "customers_df[\"distance_FROM_DEPOT\"] = customers_df.apply(lambda x: get_distance_between_two_points(x[\"XCOORD\"],x[\"YCOORD\"],DEPOT.loc[0,\"XCOORD\"], DEPOT.loc[0,\"YCOORD\"]), axis=1)\n"
   ]
  },
  {
   "cell_type": "code",
   "execution_count": 8,
   "metadata": {},
   "outputs": [
    {
     "data": {
      "text/plain": [
       "1      15.231546\n",
       "2      18.000000\n",
       "3      22.360680\n",
       "4      25.000000\n",
       "5      20.615528\n",
       "         ...    \n",
       "96     15.264338\n",
       "97     17.204651\n",
       "98     21.260292\n",
       "99     17.492856\n",
       "100    24.041631\n",
       "Name: distance_FROM_DEPOT, Length: 100, dtype: float64"
      ]
     },
     "execution_count": 8,
     "metadata": {},
     "output_type": "execute_result"
    }
   ],
   "source": [
    "customers_df[\"distance_FROM_DEPOT\"]"
   ]
  },
  {
   "cell_type": "code",
   "execution_count": 9,
   "metadata": {},
   "outputs": [
    {
     "data": {
      "text/html": [
       "<div>\n",
       "<style scoped>\n",
       "    .dataframe tbody tr th:only-of-type {\n",
       "        vertical-align: middle;\n",
       "    }\n",
       "\n",
       "    .dataframe tbody tr th {\n",
       "        vertical-align: top;\n",
       "    }\n",
       "\n",
       "    .dataframe thead th {\n",
       "        text-align: right;\n",
       "    }\n",
       "</style>\n",
       "<table border=\"1\" class=\"dataframe\">\n",
       "  <thead>\n",
       "    <tr style=\"text-align: right;\">\n",
       "      <th></th>\n",
       "      <th>CUST_NO</th>\n",
       "      <th>XCOORD</th>\n",
       "      <th>YCOORD</th>\n",
       "      <th>DEMAND</th>\n",
       "      <th>READY_TIME</th>\n",
       "      <th>DUE_DATE</th>\n",
       "      <th>SERVICE_TIME</th>\n",
       "      <th>distance_FROM_DEPOT</th>\n",
       "    </tr>\n",
       "  </thead>\n",
       "  <tbody>\n",
       "    <tr>\n",
       "      <th>1</th>\n",
       "      <td>2.0</td>\n",
       "      <td>41.0</td>\n",
       "      <td>49.0</td>\n",
       "      <td>10.0</td>\n",
       "      <td>161.0</td>\n",
       "      <td>171.0</td>\n",
       "      <td>10.0</td>\n",
       "      <td>15.231546</td>\n",
       "    </tr>\n",
       "    <tr>\n",
       "      <th>2</th>\n",
       "      <td>3.0</td>\n",
       "      <td>35.0</td>\n",
       "      <td>17.0</td>\n",
       "      <td>7.0</td>\n",
       "      <td>50.0</td>\n",
       "      <td>60.0</td>\n",
       "      <td>10.0</td>\n",
       "      <td>18.000000</td>\n",
       "    </tr>\n",
       "    <tr>\n",
       "      <th>3</th>\n",
       "      <td>4.0</td>\n",
       "      <td>55.0</td>\n",
       "      <td>45.0</td>\n",
       "      <td>13.0</td>\n",
       "      <td>116.0</td>\n",
       "      <td>126.0</td>\n",
       "      <td>10.0</td>\n",
       "      <td>22.360680</td>\n",
       "    </tr>\n",
       "    <tr>\n",
       "      <th>4</th>\n",
       "      <td>5.0</td>\n",
       "      <td>55.0</td>\n",
       "      <td>20.0</td>\n",
       "      <td>19.0</td>\n",
       "      <td>149.0</td>\n",
       "      <td>159.0</td>\n",
       "      <td>10.0</td>\n",
       "      <td>25.000000</td>\n",
       "    </tr>\n",
       "    <tr>\n",
       "      <th>5</th>\n",
       "      <td>6.0</td>\n",
       "      <td>15.0</td>\n",
       "      <td>30.0</td>\n",
       "      <td>26.0</td>\n",
       "      <td>34.0</td>\n",
       "      <td>44.0</td>\n",
       "      <td>10.0</td>\n",
       "      <td>20.615528</td>\n",
       "    </tr>\n",
       "  </tbody>\n",
       "</table>\n",
       "</div>"
      ],
      "text/plain": [
       "   CUST_NO  XCOORD  YCOORD  DEMAND  READY_TIME  DUE_DATE  SERVICE_TIME  \\\n",
       "1      2.0    41.0    49.0    10.0       161.0     171.0          10.0   \n",
       "2      3.0    35.0    17.0     7.0        50.0      60.0          10.0   \n",
       "3      4.0    55.0    45.0    13.0       116.0     126.0          10.0   \n",
       "4      5.0    55.0    20.0    19.0       149.0     159.0          10.0   \n",
       "5      6.0    15.0    30.0    26.0        34.0      44.0          10.0   \n",
       "\n",
       "   distance_FROM_DEPOT  \n",
       "1            15.231546  \n",
       "2            18.000000  \n",
       "3            22.360680  \n",
       "4            25.000000  \n",
       "5            20.615528  "
      ]
     },
     "execution_count": 9,
     "metadata": {},
     "output_type": "execute_result"
    }
   ],
   "source": [
    "customers_df.head()"
   ]
  },
  {
   "cell_type": "code",
   "execution_count": 10,
   "metadata": {},
   "outputs": [],
   "source": [
    "def cluster_df(customers_df,n_clusters):\n",
    "    #clustering data using machine learning algorithm to cluster data \n",
    "\n",
    "    columns_to_cluster = [\"DUE_DATE\",'XCOORD', 'YCOORD','distance_FROM_DEPOT']\n",
    "\n",
    "    # Normalize the data\n",
    "    data_norm = (customers_df[columns_to_cluster] -\n",
    "                    customers_df[columns_to_cluster].mean()) / customers_df[columns_to_cluster].std()\n",
    "\n",
    "    kmeans = KMeans(n_clusters=n_clusters).fit(data_norm)\n",
    "\n",
    "    customers_df['cluster'] = kmeans.labels_\n",
    "    # Sort points by distance from depot within each cluster\n",
    "    customers_df = customers_df.sort_values([\"cluster\",\"READY_TIME\", \"distance_FROM_DEPOT\"])\n",
    "    return customers_df\n"
   ]
  },
  {
   "cell_type": "code",
   "execution_count": 11,
   "metadata": {},
   "outputs": [],
   "source": [
    "customers_df = cluster_df(customers_df,30)"
   ]
  },
  {
   "cell_type": "code",
   "execution_count": 12,
   "metadata": {},
   "outputs": [
    {
     "data": {
      "text/html": [
       "<div>\n",
       "<style scoped>\n",
       "    .dataframe tbody tr th:only-of-type {\n",
       "        vertical-align: middle;\n",
       "    }\n",
       "\n",
       "    .dataframe tbody tr th {\n",
       "        vertical-align: top;\n",
       "    }\n",
       "\n",
       "    .dataframe thead th {\n",
       "        text-align: right;\n",
       "    }\n",
       "</style>\n",
       "<table border=\"1\" class=\"dataframe\">\n",
       "  <thead>\n",
       "    <tr style=\"text-align: right;\">\n",
       "      <th></th>\n",
       "      <th>CUST_NO</th>\n",
       "      <th>XCOORD</th>\n",
       "      <th>YCOORD</th>\n",
       "      <th>DEMAND</th>\n",
       "      <th>READY_TIME</th>\n",
       "      <th>DUE_DATE</th>\n",
       "      <th>SERVICE_TIME</th>\n",
       "      <th>distance_FROM_DEPOT</th>\n",
       "      <th>cluster</th>\n",
       "    </tr>\n",
       "  </thead>\n",
       "  <tbody>\n",
       "    <tr>\n",
       "      <th>40</th>\n",
       "      <td>41.0</td>\n",
       "      <td>40.0</td>\n",
       "      <td>25.0</td>\n",
       "      <td>9.0</td>\n",
       "      <td>85.0</td>\n",
       "      <td>95.0</td>\n",
       "      <td>10.0</td>\n",
       "      <td>11.180340</td>\n",
       "      <td>0</td>\n",
       "    </tr>\n",
       "    <tr>\n",
       "      <th>53</th>\n",
       "      <td>54.0</td>\n",
       "      <td>37.0</td>\n",
       "      <td>31.0</td>\n",
       "      <td>14.0</td>\n",
       "      <td>95.0</td>\n",
       "      <td>105.0</td>\n",
       "      <td>10.0</td>\n",
       "      <td>4.472136</td>\n",
       "      <td>0</td>\n",
       "    </tr>\n",
       "    <tr>\n",
       "      <th>6</th>\n",
       "      <td>7.0</td>\n",
       "      <td>25.0</td>\n",
       "      <td>30.0</td>\n",
       "      <td>3.0</td>\n",
       "      <td>99.0</td>\n",
       "      <td>109.0</td>\n",
       "      <td>10.0</td>\n",
       "      <td>11.180340</td>\n",
       "      <td>0</td>\n",
       "    </tr>\n",
       "    <tr>\n",
       "      <th>94</th>\n",
       "      <td>95.0</td>\n",
       "      <td>26.0</td>\n",
       "      <td>27.0</td>\n",
       "      <td>27.0</td>\n",
       "      <td>100.0</td>\n",
       "      <td>110.0</td>\n",
       "      <td>10.0</td>\n",
       "      <td>12.041595</td>\n",
       "      <td>0</td>\n",
       "    </tr>\n",
       "    <tr>\n",
       "      <th>33</th>\n",
       "      <td>34.0</td>\n",
       "      <td>53.0</td>\n",
       "      <td>52.0</td>\n",
       "      <td>11.0</td>\n",
       "      <td>37.0</td>\n",
       "      <td>47.0</td>\n",
       "      <td>10.0</td>\n",
       "      <td>24.758837</td>\n",
       "      <td>1</td>\n",
       "    </tr>\n",
       "  </tbody>\n",
       "</table>\n",
       "</div>"
      ],
      "text/plain": [
       "    CUST_NO  XCOORD  YCOORD  DEMAND  READY_TIME  DUE_DATE  SERVICE_TIME  \\\n",
       "40     41.0    40.0    25.0     9.0        85.0      95.0          10.0   \n",
       "53     54.0    37.0    31.0    14.0        95.0     105.0          10.0   \n",
       "6       7.0    25.0    30.0     3.0        99.0     109.0          10.0   \n",
       "94     95.0    26.0    27.0    27.0       100.0     110.0          10.0   \n",
       "33     34.0    53.0    52.0    11.0        37.0      47.0          10.0   \n",
       "\n",
       "    distance_FROM_DEPOT  cluster  \n",
       "40            11.180340        0  \n",
       "53             4.472136        0  \n",
       "6             11.180340        0  \n",
       "94            12.041595        0  \n",
       "33            24.758837        1  "
      ]
     },
     "execution_count": 12,
     "metadata": {},
     "output_type": "execute_result"
    }
   ],
   "source": [
    "customers_df.head(5)"
   ]
  },
  {
   "cell_type": "code",
   "execution_count": 13,
   "metadata": {},
   "outputs": [
    {
     "data": {
      "image/png": "[encoded data removed]",
      "text/plain": [
       "<Figure size 432x288 with 1 Axes>"
      ]
     },
     "metadata": {
      "needs_background": "light"
     },
     "output_type": "display_data"
    }
   ],
   "source": [
    "import matplotlib.pyplot as plt\n",
    "\n",
    "\n",
    "plt.scatter(customers_df[\"XCOORD\"],customers_df[\"YCOORD\"],c=customers_df['cluster'],cmap=\"inferno\")\n",
    "plt.xlabel('XCOORD')\n",
    "plt.ylabel('YCOORD')\n",
    "\n",
    "plt.show()\n"
   ]
  },
  {
   "cell_type": "code",
   "execution_count": 14,
   "metadata": {},
   "outputs": [],
   "source": [
    "class Route:\n",
    "    def  __init__(self,customers_df):\n",
    "        self.customers_df = customers_df\n",
    "        self.route_no = self.customers_df[\"cluster\"].to_list()[0]        \n",
    "        self.n_customers = self.customers_df.shape[0]\n",
    "        self.calculate_distance_matrix()\n",
    "\n",
    "    def calculate_distance_matrix(self):\n",
    "        self.dist_matrix = np.zeros((self.n_customers, self.n_customers))\n",
    "        # Loop over each pair of customers\n",
    "        for i in range(self.n_customers):\n",
    "            for j in range(self.n_customers):\n",
    "                # Calculate the Euclidean distance between the XCOORD and YCOORD values of the two customers\n",
    "                x_diff = self.customers_df['XCOORD'][i] - \\\n",
    "                    self.customers_df['XCOORD'][j]\n",
    "                y_diff = self.customers_df['YCOORD'][i] - \\\n",
    "                    self.customers_df['YCOORD'][j]\n",
    "                dist = math.sqrt(math.pow(x_diff, 2) + math.pow(y_diff, 2))\n",
    "\n",
    "                # Store the calculated distance in the corresponding position in the distance matrix\n",
    "                self.dist_matrix[i][j] = dist\n",
    "\n",
    "        return self.dist_matrix\n",
    "\n",
    "\n",
    "    def get_total_distance(self):\n",
    "              # distance between customers + distance between boundary customers and DEPOT\n",
    "        distances = []\n",
    "        if self.n_customers > 0:\n",
    "            for i, customer in self.customers_df.iterrows():\n",
    "\n",
    "                if i+1 >= self.n_customers:\n",
    "                    continue\n",
    "\n",
    "                next_customer = self.customers_df.iloc[i+1]\n",
    "                distance_between_cust_next_customer = get_distance_between_two_points(\n",
    "                    customer[\"XCOORD\"], customer[\"YCOORD\"], next_customer[\"XCOORD\"], next_customer[\"YCOORD\"])\n",
    "                distances.append(distance_between_cust_next_customer)\n",
    "\n",
    "            # distance between DEPOT and boundry customers\n",
    "            b1 = self.customers_df.iloc[0]\n",
    "            distance_between_b1_DEPOT = get_distance_between_two_points(\n",
    "                b1[\"XCOORD\"], b1[\"YCOORD\"], DEPOT[\"XCOORD\"], DEPOT[\"YCOORD\"])\n",
    "            distances.append(distance_between_b1_DEPOT)\n",
    "\n",
    "            b2 = self.customers_df.iloc[-1]\n",
    "            distance_between_b2_DEPOT = get_distance_between_two_points(\n",
    "                b2[\"XCOORD\"], b2[\"YCOORD\"], DEPOT[\"XCOORD\"], DEPOT[\"YCOORD\"])\n",
    "            distances.append(distance_between_b2_DEPOT)\n",
    "\n",
    "            self.distance = 0\n",
    "            for distance in distances:\n",
    "                self.distance += distance\n",
    "\n",
    "            return self.distance\n",
    "        else:\n",
    "            self.distance = 0\n",
    "            return self.distance\n",
    "\n",
    "\n",
    "    def check_capacity(self):\n",
    "        self.load =0\n",
    "        self.capacity_constrain = True\n",
    "        for i,v in self.customers_df.iterrows():\n",
    "            self.load +=v[\"DEMAND\"]\n",
    "        \n",
    "        if self.load<=200:\n",
    "            self.capacity_constrain = True\n",
    "            return True\n",
    "        else:\n",
    "            self.capacity_constrain = False\n",
    "            return False\n",
    "\n",
    "    def check_time_constrain(self):\n",
    "        self.time_constrain = True\n",
    "        self.current_time = self.customers_df.loc[0,\"READY_TIME\"]\n",
    "        for i,v in self.customers_df.iterrows():\n",
    "            if self.current_time>v[\"DUE_DATE\"]:\n",
    "                #means that current time exceeded the upper constrain for serving the customer\n",
    "                self.time_constrain = False\n",
    "            elif self.current_time<=v[\"DUE_DATE\"]:\n",
    "                pass\n",
    "            else:\n",
    "                print(\"condition fails\")\n",
    "            \n",
    "        return self.time_constrain\n",
    "\n",
    "    def get_no_of_customers(self):\n",
    "        return self.n_customers\n",
    "\n",
    "    def sort_route(self):\n",
    "        self.get_total_distance()\n",
    "        self.check_capacity()\n",
    "        self.check_time_constrain()\n",
    "        self.customers_df = self.customers_df.sort_values([\"cluster\",\"READY_TIME\", \"distance_FROM_DEPOT\"])\n",
    "\n",
    "    def fitness(self):\n",
    "        # calculate route fitness \n",
    "        self.check_capacity()\n",
    "        self.check_time_constrain()\n",
    "        self.get_total_distance()\n",
    "        \n",
    "        if self.capacity_constrain:\n",
    "            f1 = 1000\n",
    "        else:\n",
    "            f1 = 0 \n",
    "        \n",
    "        if self.time_constrain:\n",
    "            f2 = 1000\n",
    "        else:\n",
    "            f2 = 0\n",
    "\n",
    "        self.fitness_value = f1*f2\n",
    "        return self.fitness_value\n",
    "\n",
    "\n",
    "    def mutate(self, mutation_rate):\n",
    "        # randomly decide if mutation occurs based on mutation_rate\n",
    "        if np.random.rand() > mutation_rate:\n",
    "            return\n",
    "        \n",
    "        # randomly select two distinct customers to swap their positions\n",
    "        i, j = np.random.choice(self.n_customers, size=2, replace=False)\n",
    "        \n",
    "        # swap the positions of the two customers\n",
    "        self.customers_df.iloc[i], self.customers_df.iloc[j] = self.customers_df.iloc[j], self.customers_df.iloc[i]\n",
    "\n",
    "        # sort the route after mutation\n",
    "        self.sort_route()\n",
    "\n",
    "        # check if the new solution is feasible, otherwise revert back to the original solution\n",
    "        if not self.check_capacity() or not self.check_time_constrain():\n",
    "            self.customers_df.iloc[i], self.customers_df.iloc[j] = self.customers_df.iloc[j], self.customers_df.iloc[i]\n",
    "            self.sort_route()\n"
   ]
  },
  {
   "cell_type": "code",
   "execution_count": 15,
   "metadata": {},
   "outputs": [
    {
     "data": {
      "text/html": [
       "<div>\n",
       "<style scoped>\n",
       "    .dataframe tbody tr th:only-of-type {\n",
       "        vertical-align: middle;\n",
       "    }\n",
       "\n",
       "    .dataframe tbody tr th {\n",
       "        vertical-align: top;\n",
       "    }\n",
       "\n",
       "    .dataframe thead th {\n",
       "        text-align: right;\n",
       "    }\n",
       "</style>\n",
       "<table border=\"1\" class=\"dataframe\">\n",
       "  <thead>\n",
       "    <tr style=\"text-align: right;\">\n",
       "      <th></th>\n",
       "      <th>CUST_NO</th>\n",
       "      <th>XCOORD</th>\n",
       "      <th>YCOORD</th>\n",
       "      <th>DEMAND</th>\n",
       "      <th>READY_TIME</th>\n",
       "      <th>DUE_DATE</th>\n",
       "      <th>SERVICE_TIME</th>\n",
       "      <th>distance_FROM_DEPOT</th>\n",
       "      <th>cluster</th>\n",
       "    </tr>\n",
       "  </thead>\n",
       "  <tbody>\n",
       "    <tr>\n",
       "      <th>0</th>\n",
       "      <td>41.0</td>\n",
       "      <td>40.0</td>\n",
       "      <td>25.0</td>\n",
       "      <td>9.0</td>\n",
       "      <td>85.0</td>\n",
       "      <td>95.0</td>\n",
       "      <td>10.0</td>\n",
       "      <td>11.180340</td>\n",
       "      <td>0</td>\n",
       "    </tr>\n",
       "    <tr>\n",
       "      <th>1</th>\n",
       "      <td>54.0</td>\n",
       "      <td>37.0</td>\n",
       "      <td>31.0</td>\n",
       "      <td>14.0</td>\n",
       "      <td>95.0</td>\n",
       "      <td>105.0</td>\n",
       "      <td>10.0</td>\n",
       "      <td>4.472136</td>\n",
       "      <td>0</td>\n",
       "    </tr>\n",
       "    <tr>\n",
       "      <th>2</th>\n",
       "      <td>7.0</td>\n",
       "      <td>25.0</td>\n",
       "      <td>30.0</td>\n",
       "      <td>3.0</td>\n",
       "      <td>99.0</td>\n",
       "      <td>109.0</td>\n",
       "      <td>10.0</td>\n",
       "      <td>11.180340</td>\n",
       "      <td>0</td>\n",
       "    </tr>\n",
       "    <tr>\n",
       "      <th>3</th>\n",
       "      <td>95.0</td>\n",
       "      <td>26.0</td>\n",
       "      <td>27.0</td>\n",
       "      <td>27.0</td>\n",
       "      <td>100.0</td>\n",
       "      <td>110.0</td>\n",
       "      <td>10.0</td>\n",
       "      <td>12.041595</td>\n",
       "      <td>0</td>\n",
       "    </tr>\n",
       "  </tbody>\n",
       "</table>\n",
       "</div>"
      ],
      "text/plain": [
       "   CUST_NO  XCOORD  YCOORD  DEMAND  READY_TIME  DUE_DATE  SERVICE_TIME  \\\n",
       "0     41.0    40.0    25.0     9.0        85.0      95.0          10.0   \n",
       "1     54.0    37.0    31.0    14.0        95.0     105.0          10.0   \n",
       "2      7.0    25.0    30.0     3.0        99.0     109.0          10.0   \n",
       "3     95.0    26.0    27.0    27.0       100.0     110.0          10.0   \n",
       "\n",
       "   distance_FROM_DEPOT  cluster  \n",
       "0            11.180340        0  \n",
       "1             4.472136        0  \n",
       "2            11.180340        0  \n",
       "3            12.041595        0  "
      ]
     },
     "execution_count": 15,
     "metadata": {},
     "output_type": "execute_result"
    }
   ],
   "source": [
    "customers_df[customers_df[\"cluster\"]==0].reset_index().drop(columns=\"index\")"
   ]
  },
  {
   "cell_type": "code",
   "execution_count": 16,
   "metadata": {},
   "outputs": [
    {
     "data": {
      "text/html": [
       "<div>\n",
       "<style scoped>\n",
       "    .dataframe tbody tr th:only-of-type {\n",
       "        vertical-align: middle;\n",
       "    }\n",
       "\n",
       "    .dataframe tbody tr th {\n",
       "        vertical-align: top;\n",
       "    }\n",
       "\n",
       "    .dataframe thead th {\n",
       "        text-align: right;\n",
       "    }\n",
       "</style>\n",
       "<table border=\"1\" class=\"dataframe\">\n",
       "  <thead>\n",
       "    <tr style=\"text-align: right;\">\n",
       "      <th></th>\n",
       "      <th>CUST_NO</th>\n",
       "      <th>XCOORD</th>\n",
       "      <th>YCOORD</th>\n",
       "      <th>DEMAND</th>\n",
       "      <th>READY_TIME</th>\n",
       "      <th>DUE_DATE</th>\n",
       "      <th>SERVICE_TIME</th>\n",
       "    </tr>\n",
       "  </thead>\n",
       "  <tbody>\n",
       "    <tr>\n",
       "      <th>0</th>\n",
       "      <td>1.0</td>\n",
       "      <td>35.0</td>\n",
       "      <td>35.0</td>\n",
       "      <td>0.0</td>\n",
       "      <td>0.0</td>\n",
       "      <td>230.0</td>\n",
       "      <td>0.0</td>\n",
       "    </tr>\n",
       "  </tbody>\n",
       "</table>\n",
       "</div>"
      ],
      "text/plain": [
       "   CUST_NO  XCOORD  YCOORD  DEMAND  READY_TIME  DUE_DATE  SERVICE_TIME\n",
       "0      1.0    35.0    35.0     0.0         0.0     230.0           0.0"
      ]
     },
     "execution_count": 16,
     "metadata": {},
     "output_type": "execute_result"
    }
   ],
   "source": [
    "DEPOT"
   ]
  },
  {
   "cell_type": "code",
   "execution_count": 17,
   "metadata": {},
   "outputs": [],
   "source": [
    "def get_routes(customers_df,n_clusters):\n",
    "    routes = []\n",
    "    for n in range(n_clusters):\n",
    "        routes.append(Route(customers_df[customers_df[\"cluster\"]==n].reset_index().drop(columns=\"index\")))\n",
    "\n",
    "    return routes"
   ]
  },
  {
   "cell_type": "code",
   "execution_count": 18,
   "metadata": {},
   "outputs": [],
   "source": [
    "n_clusters=30"
   ]
  },
  {
   "cell_type": "code",
   "execution_count": 19,
   "metadata": {},
   "outputs": [],
   "source": [
    "routes= get_routes(customers_df,n_clusters)"
   ]
  },
  {
   "cell_type": "code",
   "execution_count": 20,
   "metadata": {},
   "outputs": [
    {
     "name": "stdout",
     "output_type": "stream",
     "text": [
      "route:0, total distance = 45.13401063775129,check capacity = True,check time = True\n",
      "route:1, total distance = 76.16854282171906,check capacity = True,check time = True\n",
      "route:2, total distance = 80.9398429775898,check capacity = True,check time = True\n",
      "route:3, total distance = 92.99408383921342,check capacity = True,check time = True\n",
      "route:4, total distance = 47.500942645820565,check capacity = True,check time = True\n",
      "route:5, total distance = 95.44224989488538,check capacity = True,check time = True\n",
      "route:6, total distance = 103.17850073278748,check capacity = True,check time = True\n",
      "route:7, total distance = 106.25612971612398,check capacity = True,check time = True\n",
      "route:8, total distance = 44.562571660022144,check capacity = True,check time = True\n",
      "route:9, total distance = 91.16963714654892,check capacity = True,check time = True\n",
      "route:10, total distance = 73.81301718358466,check capacity = True,check time = True\n",
      "route:11, total distance = 87.72684879784524,check capacity = True,check time = True\n",
      "route:12, total distance = 99.77510414307716,check capacity = True,check time = True\n",
      "route:13, total distance = 68.24099559961356,check capacity = True,check time = True\n",
      "route:14, total distance = 83.51776295171985,check capacity = True,check time = True\n",
      "route:15, total distance = 70.5258011886219,check capacity = True,check time = True\n",
      "route:16, total distance = 102.17833213907674,check capacity = True,check time = True\n",
      "route:17, total distance = 108.93737552045785,check capacity = True,check time = True\n",
      "route:18, total distance = 55.60575509783138,check capacity = True,check time = True\n",
      "route:19, total distance = 44.38882706975535,check capacity = True,check time = True\n",
      "route:20, total distance = 92.93180455312651,check capacity = True,check time = True\n",
      "route:21, total distance = 80.45702087034529,check capacity = True,check time = True\n",
      "route:22, total distance = 78.62841352460858,check capacity = True,check time = True\n",
      "route:23, total distance = 99.85990186255943,check capacity = True,check time = True\n",
      "route:24, total distance = 86.07681548307482,check capacity = True,check time = True\n",
      "route:25, total distance = 86.9004731558805,check capacity = True,check time = True\n",
      "route:26, total distance = 82.62558525576006,check capacity = True,check time = True\n",
      "route:27, total distance = 72.67898579587732,check capacity = True,check time = True\n",
      "route:28, total distance = 68.35202996254024,check capacity = True,check time = True\n",
      "route:29, total distance = 37.72354365436401,check capacity = True,check time = True\n"
     ]
    }
   ],
   "source": [
    "for route in routes:\n",
    "    print(f\"route:{route.route_no}, total distance = {route.get_total_distance()},check capacity = {route.check_capacity()},check time = {route.check_time_constrain()}\")"
   ]
  },
  {
   "cell_type": "code",
   "execution_count": 21,
   "metadata": {},
   "outputs": [
    {
     "name": "stdout",
     "output_type": "stream",
     "text": [
      "route:0, total distance = 45.13401063775129,check capacity = True,check time = True\n",
      "route:1, total distance = 76.16854282171906,check capacity = True,check time = True\n",
      "route:2, total distance = 80.9398429775898,check capacity = True,check time = True\n",
      "route:3, total distance = 92.99408383921342,check capacity = True,check time = True\n",
      "route:4, total distance = 47.500942645820565,check capacity = True,check time = True\n",
      "route:5, total distance = 95.44224989488538,check capacity = True,check time = True\n",
      "route:6, total distance = 103.17850073278748,check capacity = True,check time = True\n",
      "route:7, total distance = 106.25612971612398,check capacity = True,check time = True\n",
      "route:8, total distance = 44.562571660022144,check capacity = True,check time = True\n",
      "route:9, total distance = 91.16963714654892,check capacity = True,check time = True\n",
      "route:10, total distance = 73.81301718358466,check capacity = True,check time = True\n",
      "route:11, total distance = 87.72684879784524,check capacity = True,check time = True\n",
      "route:12, total distance = 99.77510414307716,check capacity = True,check time = True\n",
      "route:13, total distance = 68.24099559961356,check capacity = True,check time = True\n",
      "route:14, total distance = 83.51776295171985,check capacity = True,check time = True\n",
      "route:15, total distance = 70.5258011886219,check capacity = True,check time = True\n",
      "route:16, total distance = 102.17833213907674,check capacity = True,check time = True\n",
      "route:17, total distance = 108.93737552045785,check capacity = True,check time = True\n",
      "route:18, total distance = 55.60575509783138,check capacity = True,check time = True\n",
      "route:19, total distance = 44.38882706975535,check capacity = True,check time = True\n",
      "route:20, total distance = 92.93180455312651,check capacity = True,check time = True\n",
      "route:21, total distance = 80.45702087034529,check capacity = True,check time = True\n",
      "route:22, total distance = 78.62841352460858,check capacity = True,check time = True\n",
      "route:23, total distance = 99.85990186255943,check capacity = True,check time = True\n",
      "route:24, total distance = 86.07681548307482,check capacity = True,check time = True\n",
      "route:25, total distance = 86.9004731558805,check capacity = True,check time = True\n",
      "route:26, total distance = 82.62558525576006,check capacity = True,check time = True\n",
      "route:27, total distance = 72.67898579587732,check capacity = True,check time = True\n",
      "route:28, total distance = 68.35202996254024,check capacity = True,check time = True\n",
      "route:29, total distance = 37.72354365436401,check capacity = True,check time = True\n"
     ]
    }
   ],
   "source": [
    "for route in routes:\n",
    "    print(f\"route:{route.route_no}, total distance = {route.get_total_distance()},check capacity = {route.check_capacity()},check time = {route.check_time_constrain()}\")"
   ]
  },
  {
   "cell_type": "code",
   "execution_count": 22,
   "metadata": {},
   "outputs": [
    {
     "name": "stdout",
     "output_type": "stream",
     "text": [
      "route:0, total distance = 45.13401063775129,check capacity = True,check time = True\n",
      "route:1, total distance = 76.16854282171906,check capacity = True,check time = True\n",
      "route:2, total distance = 80.9398429775898,check capacity = True,check time = True\n",
      "route:3, total distance = 92.99408383921342,check capacity = True,check time = True\n",
      "route:4, total distance = 47.500942645820565,check capacity = True,check time = True\n",
      "route:5, total distance = 95.44224989488538,check capacity = True,check time = True\n",
      "route:6, total distance = 103.17850073278748,check capacity = True,check time = True\n",
      "route:7, total distance = 106.25612971612398,check capacity = True,check time = True\n",
      "route:8, total distance = 44.562571660022144,check capacity = True,check time = True\n",
      "route:9, total distance = 91.16963714654892,check capacity = True,check time = True\n",
      "route:10, total distance = 73.81301718358466,check capacity = True,check time = True\n",
      "route:11, total distance = 87.72684879784524,check capacity = True,check time = True\n",
      "route:12, total distance = 99.77510414307716,check capacity = True,check time = True\n",
      "route:13, total distance = 68.24099559961356,check capacity = True,check time = True\n",
      "route:14, total distance = 83.51776295171985,check capacity = True,check time = True\n",
      "route:15, total distance = 70.5258011886219,check capacity = True,check time = True\n",
      "route:16, total distance = 102.17833213907674,check capacity = True,check time = True\n",
      "route:17, total distance = 108.93737552045785,check capacity = True,check time = True\n",
      "route:18, total distance = 55.60575509783138,check capacity = True,check time = True\n",
      "route:19, total distance = 44.38882706975535,check capacity = True,check time = True\n",
      "route:20, total distance = 92.93180455312651,check capacity = True,check time = True\n",
      "route:21, total distance = 80.45702087034529,check capacity = True,check time = True\n",
      "route:22, total distance = 78.62841352460858,check capacity = True,check time = True\n",
      "route:23, total distance = 99.85990186255943,check capacity = True,check time = True\n",
      "route:24, total distance = 86.07681548307482,check capacity = True,check time = True\n",
      "route:25, total distance = 86.9004731558805,check capacity = True,check time = True\n",
      "route:26, total distance = 82.62558525576006,check capacity = True,check time = True\n",
      "route:27, total distance = 72.67898579587732,check capacity = True,check time = True\n",
      "route:28, total distance = 68.35202996254024,check capacity = True,check time = True\n",
      "route:29, total distance = 37.72354365436401,check capacity = True,check time = True\n"
     ]
    }
   ],
   "source": [
    "for route in routes:\n",
    "    print(f\"route:{route.route_no}, total distance = {route.get_total_distance()},check capacity = {route.check_capacity()},check time = {route.check_time_constrain()}\")"
   ]
  },
  {
   "cell_type": "code",
   "execution_count": 23,
   "metadata": {},
   "outputs": [],
   "source": [
    "class Solution:\n",
    "    def __init__(self,routes_list):\n",
    "        self.routes = routes_list\n",
    "        self.get_total_solution_distance()\n",
    "        self.get_total_number_of_served_customers()\n",
    "        self.get_number_of_routes()\n",
    "        self.check_feasiblity()\n",
    "\n",
    "    def get_total_solution_distance(self):\n",
    "        self.solution_total_distance =0\n",
    "        for route in self.routes:\n",
    "            self.solution_total_distance+=route.get_total_distance()\n",
    "        return self.solution_total_distance\n",
    "    \n",
    "    def get_total_number_of_served_customers(self):\n",
    "        self.total_n_customers = 0\n",
    "        for route in self.routes.copy():\n",
    "            if route.get_no_of_customers()<=1:\n",
    "                # self.routes.remove(route)\n",
    "                pass\n",
    "            else:\n",
    "                self.total_n_customers+=route.get_no_of_customers()\n",
    "        return self.total_n_customers\n",
    "    \n",
    "    def get_number_of_routes(self):\n",
    "        self.no_of_routes = len(self.routes) #equalivent to no. of vehicles as well\n",
    "        \n",
    "    def check_feasiblity(self):\n",
    "        self.feasiblity = True\n",
    "        for route in self.routes:\n",
    "            if route.fitness():\n",
    "                pass\n",
    "            else:\n",
    "                self.feasiblity = False\n",
    "        return self.feasiblity \n",
    "\n",
    "    def merge_routes(self,route1,route2):\n",
    "        #merge_route? \n",
    "        #get customers df from the two routes \n",
    "        routes = self.routes.copy()\n",
    "        route1_customers = route1.customers_df\n",
    "        route2_customers = route2.customers_df\n",
    "\n",
    "        #merge the two customers \n",
    "        merged_customers = pd.concat([route1_customers,route2_customers],ignore_index=True)\n",
    "\n",
    "        #rename the cluster to be as the first route cluster\n",
    "        merged_customers[\"cluster\"] = route1_customers.loc[0,\"cluster\"]\n",
    "\n",
    "        #create new route obj \n",
    "        new_route = Route(merged_customers)\n",
    "        new_route.sort_route()\n",
    "        if route1 in routes:\n",
    "            routes.remove(route1)\n",
    "        else:\n",
    "            print(\"route1 not in self.routes\")\n",
    "\n",
    "        if route2 in routes:\n",
    "            routes.remove(route2)\n",
    "        else:\n",
    "            print(\"route2 not in self.routes\")\n",
    "        routes.append(new_route)\n",
    "        \n",
    "        self.routes = routes.copy()\n",
    "        self.get_total_solution_distance()\n",
    "        self.get_total_number_of_served_customers()\n",
    "        self.get_number_of_routes()\n",
    "        self.check_feasiblity()\n",
    "\n",
    "        return new_route\n",
    "    \n",
    "    def fitness_func(self):\n",
    "        capacity_constrain = 1\n",
    "        time_constrain = 1\n",
    "\n",
    "        for route in self.routes:\n",
    "            if not route.check_capacity():\n",
    "                capacity_constrain = 0 \n",
    "            if not route.check_time_constrain():\n",
    "                time_constrain = 0\n",
    "\n",
    "\n",
    "        fitness_value = capacity_constrain*time_constrain*(self.total_n_customers*100000-self.no_of_routes*50000-self.solution_total_distance)\n",
    "\n",
    "        return round(fitness_value,2)\n",
    "            \n",
    "    def remove_unfeasible_routes(self):\n",
    "        routes = self.routes.copy()\n",
    "        for route in self.routes:\n",
    "            if route.fitness()==0:\n",
    "                routes.remove(route)\n",
    "            \n",
    "        self.routes = routes.copy()\n",
    "        self.check_feasiblity()\n",
    "                            \n",
    "                \n",
    "    def merge_two_routes_with_least_capacity(self):\n",
    "        for route in self.routes:\n",
    "            route.sort_route()\n",
    "\n",
    "        routes = self.routes.copy()\n",
    "        sorted_by_load = sorted(routes, key=lambda x: x.load)\n",
    "        route1 = sorted_by_load[0]\n",
    "        route2 = sorted_by_load[1]\n",
    "        self.merge_routes(route1, route2) \n",
    "\n",
    "    def merge_two_routes_with_smallest_distance(self):\n",
    "        for route in self.routes:\n",
    "            route.sort_route()\n",
    "\n",
    "        routes = self.routes.copy()\n",
    "        sorted_by_load = sorted(routes, key=lambda x: x.distance)\n",
    "        route1 = sorted_by_load[0]\n",
    "        route2 = sorted_by_load[1]\n",
    "        self.merge_routes(route1, route2) \n"
   ]
  },
  {
   "cell_type": "code",
   "execution_count": 24,
   "metadata": {},
   "outputs": [
    {
     "data": {
      "text/plain": [
       "30"
      ]
     },
     "execution_count": 24,
     "metadata": {},
     "output_type": "execute_result"
    }
   ],
   "source": [
    "len(routes)"
   ]
  },
  {
   "cell_type": "code",
   "execution_count": 25,
   "metadata": {},
   "outputs": [],
   "source": [
    "sol = Solution(routes)"
   ]
  },
  {
   "cell_type": "code",
   "execution_count": 26,
   "metadata": {},
   "outputs": [
    {
     "name": "stdout",
     "output_type": "stream",
     "text": [
      "route:0, total distance = 45.13401063775129,check capacity = True,capacity = 53.0,check time = True\n",
      "route:1, total distance = 76.16854282171906,check capacity = True,capacity = 42.0,check time = True\n",
      "route:2, total distance = 80.9398429775898,check capacity = True,capacity = 33.0,check time = True\n",
      "route:3, total distance = 92.99408383921342,check capacity = True,capacity = 17.0,check time = True\n",
      "route:4, total distance = 47.500942645820565,check capacity = True,capacity = 20.0,check time = True\n",
      "route:5, total distance = 95.44224989488538,check capacity = True,capacity = 99.0,check time = True\n",
      "route:6, total distance = 103.17850073278748,check capacity = True,capacity = 39.0,check time = True\n",
      "route:7, total distance = 106.25612971612398,check capacity = True,capacity = 48.0,check time = True\n",
      "route:8, total distance = 44.562571660022144,check capacity = True,capacity = 47.0,check time = True\n",
      "route:9, total distance = 91.16963714654892,check capacity = True,capacity = 11.0,check time = True\n",
      "route:10, total distance = 73.81301718358466,check capacity = True,capacity = 99.0,check time = True\n",
      "route:11, total distance = 87.72684879784524,check capacity = True,capacity = 25.0,check time = True\n",
      "route:12, total distance = 99.77510414307716,check capacity = True,capacity = 42.0,check time = True\n",
      "route:13, total distance = 68.24099559961356,check capacity = True,capacity = 52.0,check time = True\n",
      "route:14, total distance = 83.51776295171985,check capacity = True,capacity = 50.0,check time = True\n",
      "route:15, total distance = 70.5258011886219,check capacity = True,capacity = 48.0,check time = True\n",
      "route:16, total distance = 102.17833213907674,check capacity = True,capacity = 88.0,check time = True\n",
      "route:17, total distance = 108.93737552045785,check capacity = True,capacity = 91.0,check time = True\n",
      "route:18, total distance = 55.60575509783138,check capacity = True,capacity = 36.0,check time = True\n",
      "route:19, total distance = 44.38882706975535,check capacity = True,capacity = 15.0,check time = True\n",
      "route:20, total distance = 92.93180455312651,check capacity = True,capacity = 48.0,check time = True\n",
      "route:21, total distance = 80.45702087034529,check capacity = True,capacity = 87.0,check time = True\n",
      "route:22, total distance = 78.62841352460858,check capacity = True,capacity = 60.0,check time = True\n",
      "route:23, total distance = 99.85990186255943,check capacity = True,capacity = 20.0,check time = True\n",
      "route:24, total distance = 86.07681548307482,check capacity = True,capacity = 48.0,check time = True\n",
      "route:25, total distance = 86.9004731558805,check capacity = True,capacity = 88.0,check time = True\n",
      "route:26, total distance = 82.62558525576006,check capacity = True,capacity = 80.0,check time = True\n",
      "route:27, total distance = 72.67898579587732,check capacity = True,capacity = 33.0,check time = True\n",
      "route:28, total distance = 68.35202996254024,check capacity = True,capacity = 7.0,check time = True\n",
      "route:29, total distance = 37.72354365436401,check capacity = True,capacity = 32.0,check time = True\n"
     ]
    }
   ],
   "source": [
    "for route in sol.routes:\n",
    "    print(f\"route:{route.route_no}, total distance = {route.get_total_distance()},check capacity = {route.check_capacity()},capacity = {route.load},check time = {route.check_time_constrain()}\")"
   ]
  },
  {
   "cell_type": "code",
   "execution_count": 27,
   "metadata": {},
   "outputs": [
    {
     "data": {
      "text/plain": [
       "30"
      ]
     },
     "execution_count": 27,
     "metadata": {},
     "output_type": "execute_result"
    }
   ],
   "source": [
    "len(sol.routes)"
   ]
  },
  {
   "cell_type": "code",
   "execution_count": 28,
   "metadata": {},
   "outputs": [
    {
     "data": {
      "text/plain": [
       "(30, 2364.290905882183, 96, True, 8097635.71)"
      ]
     },
     "execution_count": 28,
     "metadata": {},
     "output_type": "execute_result"
    }
   ],
   "source": [
    "len(sol.routes),sol.get_total_solution_distance(),sol.get_total_number_of_served_customers(),sol.check_feasiblity(),sol.fitness_func()\n"
   ]
  },
  {
   "cell_type": "code",
   "execution_count": 29,
   "metadata": {},
   "outputs": [],
   "source": [
    "#use this initial solution in genetic algorithm \n",
    "initial_solution = sol"
   ]
  },
  {
   "cell_type": "code",
   "execution_count": 30,
   "metadata": {},
   "outputs": [],
   "source": [
    "def generate_initial_population(customers_df,POPULATION_SIZE,n_clusters):\n",
    "        # Step 1: Generate initial population\n",
    "        population = []\n",
    "        for i in range(POPULATION_SIZE):\n",
    "            customers_df_generated = cluster_df(customers_df, n_clusters)\n",
    "            routes = get_routes(customers_df_generated, n_clusters)\n",
    "            sol = Solution(routes)\n",
    "            len(sol.routes),sol.get_total_solution_distance(),sol.get_total_number_of_served_customers(),sol.check_feasiblity(),sol.fitness_func()\n",
    "            population.append(sol)\n",
    "        return population\n"
   ]
  },
  {
   "cell_type": "code",
   "execution_count": 31,
   "metadata": {},
   "outputs": [],
   "source": [
    "pop = generate_initial_population(customers_df, 50,n_clusters)"
   ]
  },
  {
   "cell_type": "code",
   "execution_count": 32,
   "metadata": {},
   "outputs": [
    {
     "name": "stdout",
     "output_type": "stream",
     "text": [
      "30 2391.6020750741586 97 True 8197608.4\n",
      "30 2410.0820412746793 98 True 8297589.92\n",
      "30 2381.6938920435214 96 True 8097618.31\n",
      "30 2362.7802513611705 96 True 8097637.22\n",
      "30 2415.715945368002 96 True 8097584.28\n",
      "30 2416.2000960843575 96 True 8097583.8\n",
      "30 2366.7671446423137 97 True 8197633.23\n",
      "30 2435.9099706879983 96 True 8097564.09\n",
      "30 2401.153043839529 97 True 8197598.85\n",
      "30 2376.689000480229 97 True 8197623.31\n",
      "30 2397.4060153949113 97 True 8197602.59\n",
      "30 2404.5767708951194 96 True 8097595.42\n",
      "30 2421.290715199736 97 True 8197578.71\n",
      "30 2383.375895334052 96 True 8097616.62\n",
      "30 2335.47799145015 96 True 8097664.52\n",
      "30 2343.8028298596564 97 True 8197656.2\n",
      "30 2315.814956146974 98 True 8297684.19\n",
      "30 2362.2697327180904 98 True 8297637.73\n",
      "30 2390.7522016992457 96 True 8097609.25\n",
      "30 2375.4756200169477 97 True 8197624.52\n",
      "30 2437.0524532209383 97 True 8197562.95\n",
      "30 2403.588519891142 97 True 8197596.41\n",
      "30 2410.7952238964954 97 True 8197589.2\n",
      "30 2362.641365688627 96 True 8097637.36\n",
      "30 2356.945137772502 97 True 8197643.05\n",
      "30 2317.96611949533 98 True 8297682.03\n",
      "30 2382.318253909433 97 True 8197617.68\n",
      "30 2382.5550861246466 98 True 8297617.44\n",
      "30 2434.6631706872577 95 True 7997565.34\n",
      "30 2441.2977482441197 96 True 8097558.7\n",
      "30 2319.285269594518 97 True 8197680.71\n",
      "30 2478.6744250729325 94 True 7897521.33\n",
      "30 2387.830319647049 96 True 8097612.17\n",
      "30 2436.990007257305 97 True 8197563.01\n",
      "30 2342.9191295408 96 True 8097657.08\n",
      "30 2327.752590631898 99 True 8397672.25\n",
      "30 2440.91783662527 95 True 7997559.08\n",
      "30 2309.632358090788 97 True 8197690.37\n",
      "30 2402.85993558056 95 True 7997597.14\n",
      "30 2410.206471882757 96 True 8097589.79\n",
      "30 2350.209355045739 98 True 8297649.79\n",
      "30 2440.8436471187983 97 True 8197559.16\n",
      "30 2394.2360844926434 97 True 8197605.76\n",
      "30 2463.846504442804 96 True 8097536.15\n",
      "30 2414.415427803443 95 True 7997585.58\n",
      "30 2328.993275770139 97 True 8197671.01\n",
      "30 2398.7573058044795 94 True 7897601.24\n",
      "30 2486.420145040311 95 True 7997513.58\n",
      "30 2370.750254400428 96 True 8097629.25\n",
      "30 2299.6419201922067 97 True 8197700.36\n"
     ]
    }
   ],
   "source": [
    "for sol in pop:\n",
    "    print(len(sol.routes),sol.get_total_solution_distance(),sol.get_total_number_of_served_customers(),sol.check_feasiblity(),sol.fitness_func())\n"
   ]
  },
  {
   "cell_type": "code",
   "execution_count": null,
   "metadata": {},
   "outputs": [],
   "source": []
  },
  {
   "cell_type": "code",
   "execution_count": 33,
   "metadata": {},
   "outputs": [],
   "source": [
    "import random\n",
    "\n",
    "def rank_based_selection(population, k=2):\n",
    "    fitness_list = [sol.fitness_func() for sol in population]\n",
    "    ranked_list = sorted(range(len(fitness_list)), key=lambda k: fitness_list[k])\n",
    "    ranks = [len(fitness_list) - i for i in ranked_list]\n",
    "    probs = [rank / sum(ranks) for rank in ranks]\n",
    "    selected_indices = random.choices(range(len(population)), weights=probs, k=k)\n",
    "    return [population[i] for i in selected_indices]\n"
   ]
  },
  {
   "cell_type": "code",
   "execution_count": 34,
   "metadata": {},
   "outputs": [],
   "source": [
    "parent1,parent2 = rank_based_selection(pop,2)"
   ]
  },
  {
   "cell_type": "code",
   "execution_count": 35,
   "metadata": {},
   "outputs": [
    {
     "name": "stdout",
     "output_type": "stream",
     "text": [
      "30 2410.7952238964954 97 True 8197589.2\n",
      "30 2387.830319647049 96 True 8097612.17\n"
     ]
    }
   ],
   "source": [
    "for sol in rank_based_selection(pop,2):\n",
    "    print(len(sol.routes),sol.get_total_solution_distance(),sol.get_total_number_of_served_customers(),sol.check_feasiblity(),sol.fitness_func())\n"
   ]
  },
  {
   "cell_type": "code",
   "execution_count": 36,
   "metadata": {},
   "outputs": [
    {
     "name": "stdout",
     "output_type": "stream",
     "text": [
      "route:0, total distance = 60.546107730135816,check capacity = True,capacity = 60.0,check time = True\n",
      "route:1, total distance = 56.213861581321126,check capacity = True,capacity = 34.0,check time = True\n",
      "route:2, total distance = 72.67898579587732,check capacity = True,capacity = 33.0,check time = True\n",
      "route:3, total distance = 119.23556028251735,check capacity = True,capacity = 87.0,check time = True\n",
      "route:4, total distance = 87.80067498282912,check capacity = True,capacity = 85.0,check time = True\n",
      "route:5, total distance = 68.24099559961356,check capacity = True,capacity = 52.0,check time = True\n",
      "route:6, total distance = 99.90181672017059,check capacity = True,capacity = 51.0,check time = True\n",
      "route:7, total distance = 83.32123880404372,check capacity = True,capacity = 35.0,check time = True\n",
      "route:8, total distance = 37.72354365436401,check capacity = True,capacity = 32.0,check time = True\n",
      "route:9, total distance = 98.4363251688913,check capacity = True,capacity = 85.0,check time = True\n",
      "route:10, total distance = 79.32212806020776,check capacity = True,capacity = 15.0,check time = True\n",
      "route:11, total distance = 103.17850073278748,check capacity = True,capacity = 39.0,check time = True\n",
      "route:12, total distance = 81.64110506538637,check capacity = True,capacity = 69.0,check time = True\n",
      "route:13, total distance = 55.02323134121636,check capacity = True,capacity = 40.0,check time = True\n",
      "route:14, total distance = 104.928860663186,check capacity = True,capacity = 39.0,check time = True\n",
      "route:15, total distance = 64.02604393145747,check capacity = True,capacity = 62.0,check time = True\n",
      "route:16, total distance = 94.23491122176347,check capacity = True,capacity = 55.0,check time = True\n",
      "route:17, total distance = 44.562571660022144,check capacity = True,capacity = 47.0,check time = True\n",
      "route:18, total distance = 82.47544462178881,check capacity = True,capacity = 77.0,check time = True\n",
      "route:19, total distance = 51.61460862569731,check capacity = True,capacity = 60.0,check time = True\n",
      "route:20, total distance = 81.2347032342694,check capacity = True,capacity = 57.0,check time = True\n",
      "route:21, total distance = 117.29978646618798,check capacity = True,capacity = 47.0,check time = True\n",
      "route:22, total distance = 97.48939346019105,check capacity = True,capacity = 29.0,check time = True\n",
      "route:23, total distance = 99.85990186255943,check capacity = True,capacity = 20.0,check time = True\n",
      "route:24, total distance = 80.9398429775898,check capacity = True,capacity = 33.0,check time = True\n",
      "route:25, total distance = 44.45967868697908,check capacity = True,capacity = 56.0,check time = True\n",
      "route:26, total distance = 122.7969504542765,check capacity = True,capacity = 71.0,check time = True\n",
      "route:27, total distance = 65.51827189671756,check capacity = True,capacity = 32.0,check time = True\n",
      "route:28, total distance = 37.13114145579581,check capacity = True,capacity = 40.0,check time = True\n",
      "route:29, total distance = 84.8528137423857,check capacity = True,capacity = 16.0,check time = True\n"
     ]
    }
   ],
   "source": [
    "for route in parent1.routes:\n",
    "    print(f\"route:{route.route_no}, total distance = {route.get_total_distance()},check capacity = {route.check_capacity()},capacity = {route.load},check time = {route.check_time_constrain()}\")"
   ]
  },
  {
   "cell_type": "code",
   "execution_count": 37,
   "metadata": {},
   "outputs": [
    {
     "name": "stdout",
     "output_type": "stream",
     "text": [
      "route:0, total distance = 91.16963714654892,check capacity = True,capacity = 11.0,check time = True\n",
      "route:1, total distance = 112.58403900041844,check capacity = True,capacity = 85.0,check time = True\n",
      "route:2, total distance = 44.45967868697908,check capacity = True,capacity = 56.0,check time = True\n",
      "route:3, total distance = 81.5441521406812,check capacity = True,capacity = 98.0,check time = True\n",
      "route:4, total distance = 82.07744514047423,check capacity = True,capacity = 39.0,check time = True\n",
      "route:5, total distance = 76.16854282171906,check capacity = True,capacity = 42.0,check time = True\n",
      "route:6, total distance = 67.25725344183368,check capacity = True,capacity = 72.0,check time = True\n",
      "route:7, total distance = 99.90181672017059,check capacity = True,capacity = 51.0,check time = True\n",
      "route:8, total distance = 146.64365509883748,check capacity = True,capacity = 106.0,check time = True\n",
      "route:9, total distance = 68.35202996254024,check capacity = True,capacity = 7.0,check time = True\n",
      "route:10, total distance = 87.72684879784524,check capacity = True,capacity = 25.0,check time = True\n",
      "route:11, total distance = 51.451349523455896,check capacity = True,capacity = 74.0,check time = True\n",
      "route:12, total distance = 82.62558525576006,check capacity = True,capacity = 80.0,check time = True\n",
      "route:13, total distance = 68.48443755643865,check capacity = True,capacity = 56.0,check time = True\n",
      "route:14, total distance = 68.24099559961356,check capacity = True,capacity = 52.0,check time = True\n",
      "route:15, total distance = 82.81684839287102,check capacity = True,capacity = 32.0,check time = True\n",
      "route:16, total distance = 80.9398429775898,check capacity = True,capacity = 33.0,check time = True\n",
      "route:17, total distance = 70.5258011886219,check capacity = True,capacity = 48.0,check time = True\n",
      "route:18, total distance = 72.67898579587732,check capacity = True,capacity = 33.0,check time = True\n",
      "route:19, total distance = 90.82015074092553,check capacity = True,capacity = 51.0,check time = True\n",
      "route:20, total distance = 70.9365914038728,check capacity = True,capacity = 1.0,check time = True\n",
      "route:21, total distance = 70.30110695265856,check capacity = True,capacity = 86.0,check time = True\n",
      "route:22, total distance = 99.85990186255943,check capacity = True,capacity = 20.0,check time = True\n",
      "route:23, total distance = 83.32123880404372,check capacity = True,capacity = 35.0,check time = True\n",
      "route:24, total distance = 78.62841352460858,check capacity = True,capacity = 60.0,check time = True\n",
      "route:25, total distance = 97.65799801659665,check capacity = True,capacity = 33.0,check time = True\n",
      "route:26, total distance = 103.17850073278748,check capacity = True,capacity = 39.0,check time = True\n",
      "route:27, total distance = 72.4837896193206,check capacity = True,capacity = 20.0,check time = True\n",
      "route:28, total distance = 82.47544462178881,check capacity = True,capacity = 77.0,check time = True\n",
      "route:29, total distance = 55.60575509783138,check capacity = True,capacity = 36.0,check time = True\n"
     ]
    }
   ],
   "source": [
    "for route in parent2.routes:\n",
    "    print(f\"route:{route.route_no}, total distance = {route.get_total_distance()},check capacity = {route.check_capacity()},capacity = {route.load},check time = {route.check_time_constrain()}\")"
   ]
  },
  {
   "cell_type": "code",
   "execution_count": 38,
   "metadata": {},
   "outputs": [],
   "source": [
    "def create_offspring(parent1, parent2, crossover_rate):\n",
    "    # check if crossover should occur\n",
    "    if random.random() > crossover_rate:\n",
    "        # if not, return a clone of parent1 or parent2 at random\n",
    "        if random.random() < 0.5:\n",
    "            return parent1.clone()\n",
    "        else:\n",
    "            return parent2.clone()\n",
    "\n",
    "    p1_routes = parent1.routes\n",
    "    p2_routes = parent2.routes\n",
    "\n",
    "    # Choose a random crossover point\n",
    "    crossover_point = random.randint(1, len(p1_routes) - 1)\n",
    "\n",
    "    # Create the offspring by combining the parents' genetic material\n",
    "    offspring_routes = p1_routes[:crossover_point] + p2_routes[crossover_point:]\n",
    "    offspring = Solution(offspring_routes)\n",
    "\n",
    "    return offspring\n"
   ]
  },
  {
   "cell_type": "code",
   "execution_count": 39,
   "metadata": {},
   "outputs": [],
   "source": [
    "offspring = create_offspring(parent1,parent2,0.8)"
   ]
  },
  {
   "cell_type": "code",
   "execution_count": 40,
   "metadata": {},
   "outputs": [
    {
     "name": "stdout",
     "output_type": "stream",
     "text": [
      "30 2410.294307208857 96 True 8097589.71\n"
     ]
    }
   ],
   "source": [
    "print(len(offspring.routes),offspring.get_total_solution_distance(),offspring.get_total_number_of_served_customers(),offspring.check_feasiblity(),offspring.fitness_func())\n"
   ]
  },
  {
   "cell_type": "code",
   "execution_count": 41,
   "metadata": {},
   "outputs": [
    {
     "name": "stdout",
     "output_type": "stream",
     "text": [
      "route:0, total distance = 60.546107730135816,check capacity = True,capacity = 60.0,check time = True\n",
      "route:1, total distance = 112.58403900041844,check capacity = True,capacity = 85.0,check time = True\n",
      "route:2, total distance = 44.45967868697908,check capacity = True,capacity = 56.0,check time = True\n",
      "route:3, total distance = 81.5441521406812,check capacity = True,capacity = 98.0,check time = True\n",
      "route:4, total distance = 82.07744514047423,check capacity = True,capacity = 39.0,check time = True\n",
      "route:5, total distance = 76.16854282171906,check capacity = True,capacity = 42.0,check time = True\n",
      "route:6, total distance = 67.25725344183368,check capacity = True,capacity = 72.0,check time = True\n",
      "route:7, total distance = 99.90181672017059,check capacity = True,capacity = 51.0,check time = True\n",
      "route:8, total distance = 146.64365509883748,check capacity = True,capacity = 106.0,check time = True\n",
      "route:9, total distance = 68.35202996254024,check capacity = True,capacity = 7.0,check time = True\n",
      "route:10, total distance = 87.72684879784524,check capacity = True,capacity = 25.0,check time = True\n",
      "route:11, total distance = 51.451349523455896,check capacity = True,capacity = 74.0,check time = True\n",
      "route:12, total distance = 82.62558525576006,check capacity = True,capacity = 80.0,check time = True\n",
      "route:13, total distance = 68.48443755643865,check capacity = True,capacity = 56.0,check time = True\n",
      "route:14, total distance = 68.24099559961356,check capacity = True,capacity = 52.0,check time = True\n",
      "route:15, total distance = 82.81684839287102,check capacity = True,capacity = 32.0,check time = True\n",
      "route:16, total distance = 80.9398429775898,check capacity = True,capacity = 33.0,check time = True\n",
      "route:17, total distance = 70.5258011886219,check capacity = True,capacity = 48.0,check time = True\n",
      "route:18, total distance = 72.67898579587732,check capacity = True,capacity = 33.0,check time = True\n",
      "route:19, total distance = 90.82015074092553,check capacity = True,capacity = 51.0,check time = True\n",
      "route:20, total distance = 70.9365914038728,check capacity = True,capacity = 1.0,check time = True\n",
      "route:21, total distance = 70.30110695265856,check capacity = True,capacity = 86.0,check time = True\n",
      "route:22, total distance = 99.85990186255943,check capacity = True,capacity = 20.0,check time = True\n",
      "route:23, total distance = 83.32123880404372,check capacity = True,capacity = 35.0,check time = True\n",
      "route:24, total distance = 78.62841352460858,check capacity = True,capacity = 60.0,check time = True\n",
      "route:25, total distance = 97.65799801659665,check capacity = True,capacity = 33.0,check time = True\n",
      "route:26, total distance = 103.17850073278748,check capacity = True,capacity = 39.0,check time = True\n",
      "route:27, total distance = 72.4837896193206,check capacity = True,capacity = 20.0,check time = True\n",
      "route:28, total distance = 82.47544462178881,check capacity = True,capacity = 77.0,check time = True\n",
      "route:29, total distance = 55.60575509783138,check capacity = True,capacity = 36.0,check time = True\n"
     ]
    }
   ],
   "source": [
    "for route in offspring.routes:\n",
    "    print(f\"route:{route.route_no}, total distance = {route.get_total_distance()},check capacity = {route.check_capacity()},capacity = {route.load},check time = {route.check_time_constrain()}\")"
   ]
  },
  {
   "cell_type": "code",
   "execution_count": 43,
   "metadata": {},
   "outputs": [
    {
     "name": "stdout",
     "output_type": "stream",
     "text": [
      "Generation 0\n"
     ]
    }
   ],
   "source": [
    "n_generation = 300\n",
    "n_population = 100 \n",
    "co_rate = 0.8\n",
    "m_rate = 0.3\n",
    "n_clusters = 20\n",
    "\n",
    "# Generate initial population\n",
    "pop = generate_initial_population(customers_df, n_population, n_clusters)\n",
    "\n",
    "for i in range(n_generation):\n",
    "    print(f\"Generation {i}\")\n",
    "    \n",
    "    # Rank-based selection\n",
    "    parents = rank_based_selection(pop, 2)\n",
    "    \n",
    "    # Create offspring using crossover\n",
    "    offspring = create_offspring(parents[0], parents[1], co_rate)\n",
    "    \n",
    "    # Mutate offspring\n",
    "    for route in offspring.routes:\n",
    "        if random.random() < m_rate:\n",
    "            while not route.mutate(0.3):\n",
    "                pass\n",
    "                \n",
    "    # Calculate fitness for offspring\n",
    "    offspring_fitness = offspring.fitness_func()\n",
    "    \n",
    "    # Replace worst solution in population with offspring\n",
    "    pop_fitness = [sol.fitness_func() for sol in pop]\n",
    "    worst_idx = pop_fitness.index(min(pop_fitness))\n",
    "    if offspring_fitness > pop_fitness[worst_idx]:\n",
    "        pop[worst_idx] = offspring\n"
   ]
  },
  {
   "cell_type": "code",
   "execution_count": null,
   "metadata": {},
   "outputs": [],
   "source": [
    "n_generation = 300\n",
    "n_population = 100 \n",
    "co_rate = 0.8\n",
    "m_rate = 0.3\n",
    "n_clusters = 20\n",
    "for i in range(n_generation):\n",
    "    print(f\"generation:{i}\")\n",
    "    for j in range(n_population):\n",
    "        pop = generate_initial_population(customers_df,POPULATION_SIZE,n_clusters)\n",
    "        parent1,parent2 = rank_based_selection(pop,2)\n",
    "        offspring = create_offspring(parent1, parent2, co_rate)\n",
    "        for route in offspring.routes:\n",
    "            route.mutate()\n"
   ]
  },
  {
   "cell_type": "code",
   "execution_count": null,
   "metadata": {},
   "outputs": [],
   "source": []
  }
 ],
 "metadata": {
  "kernelspec": {
   "display_name": "base",
   "language": "python",
   "name": "python3"
  },
  "language_info": {
   "codemirror_mode": {
    "name": "ipython",
    "version": 3
   },
   "file_extension": ".py",
   "mimetype": "text/x-python",
   "name": "python",
   "nbconvert_exporter": "python",
   "pygments_lexer": "ipython3",
   "version": "3.8.8"
  },
  "orig_nbformat": 4
 },
 "nbformat": 4,
 "nbformat_minor": 2
}
