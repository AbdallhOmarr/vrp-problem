{
 "cells": [
  {
   "cell_type": "code",
   "execution_count": 1,
   "metadata": {},
   "outputs": [],
   "source": [
    "import pandas as pd\n",
    "import re\n",
    "import matplotlib.pyplot as plt\n",
    "import math\n",
    "import numpy as np\n",
    "import random\n",
    "import pandas as pd\n",
    "from sklearn.cluster import KMeans\n",
    "import re\n",
    "from Route import *\n",
    "from Solution import * \n",
    "from sklearn.cluster import KMeans\n",
    "from vrp_problem import *"
   ]
  },
  {
   "cell_type": "code",
   "execution_count": 2,
   "metadata": {},
   "outputs": [
    {
     "name": "stdout",
     "output_type": "stream",
     "text": [
      "Genration:0\n",
      "Population created\n",
      "Two parents created\n"
     ]
    },
    {
     "ename": "TypeError",
     "evalue": "list indices must be integers or slices, not dict",
     "output_type": "error",
     "traceback": [
      "\u001b[1;31m---------------------------------------------------------------------------\u001b[0m",
      "\u001b[1;31mTypeError\u001b[0m                                 Traceback (most recent call last)",
      "\u001b[1;32mC:\\Users\\ABDALL~1\\AppData\\Local\\Temp/ipykernel_20984/2972163284.py\u001b[0m in \u001b[0;36m<module>\u001b[1;34m\u001b[0m\n\u001b[0;32m     19\u001b[0m     \u001b[0mparent1\u001b[0m\u001b[1;33m,\u001b[0m\u001b[0mparent2\u001b[0m \u001b[1;33m=\u001b[0m \u001b[0mrank_based_selection\u001b[0m\u001b[1;33m(\u001b[0m\u001b[0mpop\u001b[0m\u001b[1;33m,\u001b[0m\u001b[1;36m2\u001b[0m\u001b[1;33m)\u001b[0m\u001b[1;33m\u001b[0m\u001b[1;33m\u001b[0m\u001b[0m\n\u001b[0;32m     20\u001b[0m     \u001b[0mprint\u001b[0m\u001b[1;33m(\u001b[0m\u001b[1;34m\"Two parents created\"\u001b[0m\u001b[1;33m)\u001b[0m\u001b[1;33m\u001b[0m\u001b[1;33m\u001b[0m\u001b[0m\n\u001b[1;32m---> 21\u001b[1;33m     \u001b[0moffspring\u001b[0m \u001b[1;33m=\u001b[0m \u001b[0mcreate_offspring\u001b[0m\u001b[1;33m(\u001b[0m\u001b[0mparent1\u001b[0m\u001b[1;33m,\u001b[0m\u001b[0mparent2\u001b[0m\u001b[1;33m,\u001b[0m\u001b[0mco_rate\u001b[0m\u001b[1;33m)\u001b[0m\u001b[1;33m\u001b[0m\u001b[1;33m\u001b[0m\u001b[0m\n\u001b[0m\u001b[0;32m     22\u001b[0m     \u001b[0mprint\u001b[0m\u001b[1;33m(\u001b[0m\u001b[1;34m\"an offspring created\"\u001b[0m\u001b[1;33m)\u001b[0m\u001b[1;33m\u001b[0m\u001b[1;33m\u001b[0m\u001b[0m\n\u001b[0;32m     23\u001b[0m     \u001b[1;31m# Mutate offspring\u001b[0m\u001b[1;33m\u001b[0m\u001b[1;33m\u001b[0m\u001b[1;33m\u001b[0m\u001b[0m\n",
      "\u001b[1;32me:\\Repository\\vrp problem\\vrp_problem.py\u001b[0m in \u001b[0;36mcreate_offspring\u001b[1;34m(parent1, parent2, crossover_rate)\u001b[0m\n\u001b[0;32m    154\u001b[0m     \u001b[0moffspring_routes\u001b[0m \u001b[1;33m=\u001b[0m \u001b[0mp1_routes\u001b[0m\u001b[1;33m[\u001b[0m\u001b[1;33m:\u001b[0m\u001b[0mcrossover_point\u001b[0m\u001b[1;33m]\u001b[0m \u001b[1;33m+\u001b[0m \u001b[0mp2_routes\u001b[0m\u001b[1;33m[\u001b[0m\u001b[0mcrossover_point\u001b[0m\u001b[1;33m:\u001b[0m\u001b[1;33m]\u001b[0m\u001b[1;33m\u001b[0m\u001b[1;33m\u001b[0m\u001b[0m\n\u001b[0;32m    155\u001b[0m     \u001b[0moffspring_sol\u001b[0m \u001b[1;33m=\u001b[0m \u001b[0mSolution\u001b[0m\u001b[1;33m(\u001b[0m\u001b[0moffspring_routes\u001b[0m\u001b[1;33m)\u001b[0m\u001b[1;33m\u001b[0m\u001b[1;33m\u001b[0m\u001b[0m\n\u001b[1;32m--> 156\u001b[1;33m     \u001b[0moffspring_sol\u001b[0m\u001b[1;33m.\u001b[0m\u001b[0mprevent_duplicated_customers\u001b[0m\u001b[1;33m(\u001b[0m\u001b[1;33m)\u001b[0m\u001b[1;33m\u001b[0m\u001b[1;33m\u001b[0m\u001b[0m\n\u001b[0m\u001b[0;32m    157\u001b[0m     \u001b[0moffspring_sol\u001b[0m\u001b[1;33m.\u001b[0m\u001b[0mupdate_variables\u001b[0m\u001b[1;33m(\u001b[0m\u001b[1;33m)\u001b[0m\u001b[1;33m\u001b[0m\u001b[1;33m\u001b[0m\u001b[0m\n\u001b[0;32m    158\u001b[0m \u001b[1;33m\u001b[0m\u001b[0m\n",
      "\u001b[1;32me:\\Repository\\vrp problem\\Solution.py\u001b[0m in \u001b[0;36mprevent_duplicated_customers\u001b[1;34m(self)\u001b[0m\n\u001b[0;32m     32\u001b[0m \u001b[1;33m\u001b[0m\u001b[0m\n\u001b[0;32m     33\u001b[0m         \u001b[1;32mfor\u001b[0m \u001b[0mcustomer\u001b[0m\u001b[1;33m,\u001b[0m \u001b[0mroute_idx\u001b[0m \u001b[1;32min\u001b[0m \u001b[0menumerate\u001b[0m\u001b[1;33m(\u001b[0m\u001b[0mduplicated_customers\u001b[0m\u001b[1;33m)\u001b[0m\u001b[1;33m:\u001b[0m\u001b[1;33m\u001b[0m\u001b[1;33m\u001b[0m\u001b[0m\n\u001b[1;32m---> 34\u001b[1;33m             \u001b[0mroute\u001b[0m \u001b[1;33m=\u001b[0m \u001b[0mself\u001b[0m\u001b[1;33m.\u001b[0m\u001b[0mroutes\u001b[0m\u001b[1;33m[\u001b[0m\u001b[0mroute_idx\u001b[0m\u001b[1;33m]\u001b[0m\u001b[1;33m\u001b[0m\u001b[1;33m\u001b[0m\u001b[0m\n\u001b[0m\u001b[0;32m     35\u001b[0m             \u001b[0mroute_customers_array\u001b[0m \u001b[1;33m=\u001b[0m \u001b[0mroute\u001b[0m\u001b[1;33m.\u001b[0m\u001b[0mcustomers_array\u001b[0m\u001b[1;33m\u001b[0m\u001b[1;33m\u001b[0m\u001b[0m\n\u001b[0;32m     36\u001b[0m             \u001b[0mrows_to_delete\u001b[0m \u001b[1;33m=\u001b[0m \u001b[1;33m[\u001b[0m\u001b[1;33m]\u001b[0m\u001b[1;33m\u001b[0m\u001b[1;33m\u001b[0m\u001b[0m\n",
      "\u001b[1;31mTypeError\u001b[0m: list indices must be integers or slices, not dict"
     ]
    }
   ],
   "source": [
    "customers_array,DEPOT = load_data()\n",
    "\n",
    "#customers_df = cluster_df(customers_df,20)\n",
    "n_generation = 300\n",
    "n_population = 100 \n",
    "co_rate = 0.8\n",
    "m_rate = 0.3\n",
    "n_clusters = 20\n",
    "pop = generate_initial_population(customers_array, n_population,n_clusters,DEPOT)\n",
    "pop_fitness = [sol.fitness_func() for sol in pop]\n",
    "\n",
    "best_idx = pop_fitness.index(max(pop_fitness))\n",
    "best_sol_ever = pop[best_idx]\n",
    "\n",
    "for g in range(n_generation):\n",
    "    print(f\"Genration:{g}\")\n",
    "    pop = generate_initial_population(customers_array, n_population,n_clusters,DEPOT)\n",
    "    print(\"Population created\")\n",
    "    parent1,parent2 = rank_based_selection(pop,2)\n",
    "    print(\"Two parents created\")\n",
    "    offspring = create_offspring(parent1,parent2,co_rate)\n",
    "    print(\"an offspring created\")\n",
    "    # Mutate offspring\n",
    "    for route in offspring.routes:\n",
    "        route.mutate(m_rate)\n",
    "    print(f\"Route mutated\")\n",
    "\n",
    "\n",
    "    # Calculate fitness for offspring\n",
    "    offspring_fitness = offspring.fitness_func()\n",
    "    print(f\"offspring fitness:{offspring_fitness}\")\n",
    "    print(\"offspring solution:\")\n",
    "    print(len(offspring.routes),offspring.total_distance,offspring.total_customers_served,offspring.check_feasiblity(),offspring.fitness_func())\n",
    "    print(\"-\"*50)\n",
    "\n",
    "    if offspring.get_total_number_of_served_customers()>100:\n",
    "        break\n",
    "\n",
    "    # Replace worst solution in population with offspring\n",
    "    pop_fitness = [sol.fitness_func() for sol in pop]\n",
    "\n",
    "    worst_idx = pop_fitness.index(min(pop_fitness))\n",
    "    print(f\"worest solution fitness:{pop_fitness[worst_idx]}\")\n",
    "\n",
    "\n",
    "    if offspring_fitness > pop_fitness[worst_idx]:\n",
    "        pop[worst_idx] = offspring\n",
    "\n",
    "\n",
    "    best_idx = pop_fitness.index(max(pop_fitness))\n",
    "    best_sol = pop[best_idx]\n",
    "\n",
    "    if best_sol.fitness_func() > best_sol_ever.fitness_func():\n",
    "        best_sol_ever = best_sol\n",
    "    print(\"best solution till now:\")\n",
    "    print(len(best_sol_ever.routes),best_sol_ever.get_total_solution_distance(),best_sol_ever.get_total_number_of_served_customers(),best_sol_ever.check_feasiblity(),best_sol_ever.fitness_func())\n",
    "    print(\"-\"*50)\n"
   ]
  },
  {
   "cell_type": "code",
   "execution_count": null,
   "metadata": {},
   "outputs": [],
   "source": []
  }
 ],
 "metadata": {
  "kernelspec": {
   "display_name": "base",
   "language": "python",
   "name": "python3"
  },
  "language_info": {
   "codemirror_mode": {
    "name": "ipython",
    "version": 3
   },
   "file_extension": ".py",
   "mimetype": "text/x-python",
   "name": "python",
   "nbconvert_exporter": "python",
   "pygments_lexer": "ipython3",
   "version": "3.8.8"
  },
  "orig_nbformat": 4
 },
 "nbformat": 4,
 "nbformat_minor": 2
}
