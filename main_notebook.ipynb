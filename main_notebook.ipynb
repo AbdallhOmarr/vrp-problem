{
 "cells": [
  {
   "cell_type": "code",
   "execution_count": 1,
   "metadata": {},
   "outputs": [],
   "source": [
    "import pandas as pd\n",
    "import re\n",
    "import matplotlib.pyplot as plt\n",
    "import math\n",
    "import numpy as np\n",
    "import random\n",
    "import pandas as pd\n",
    "from sklearn.cluster import KMeans\n",
    "import re\n",
    "from Route import *\n",
    "from Solution import * \n",
    "from sklearn.cluster import KMeans\n",
    "from vrp_problem import *"
   ]
  },
  {
   "cell_type": "code",
   "execution_count": 2,
   "metadata": {},
   "outputs": [
    {
     "name": "stdout",
     "output_type": "stream",
     "text": [
      "Genration:0\n",
      "Population created\n",
      "Two parents created\n",
      "an offspring created\n",
      "Route mutated\n",
      "offspring fitness:0.0\n",
      "offspring solution:\n",
      "20 2101.95794908132 106 0 0.0\n",
      "--------------------------------------------------\n"
     ]
    }
   ],
   "source": [
    "customers_array,DEPOT = load_data()\n",
    "\n",
    "#customers_df = cluster_df(customers_df,20)\n",
    "n_generation = 300\n",
    "n_population = 100 \n",
    "co_rate = 0.8\n",
    "m_rate = 0.3\n",
    "n_clusters = 20\n",
    "pop = generate_initial_population(customers_array, n_population,n_clusters,DEPOT)\n",
    "pop_fitness = [sol.fitness_func() for sol in pop]\n",
    "\n",
    "best_idx = pop_fitness.index(max(pop_fitness))\n",
    "best_sol_ever = pop[best_idx]\n",
    "\n",
    "for g in range(n_generation):\n",
    "    print(f\"Genration:{g}\")\n",
    "    pop = generate_initial_population(customers_array, n_population,n_clusters,DEPOT)\n",
    "    print(\"Population created\")\n",
    "    parent1,parent2 = rank_based_selection(pop,2)\n",
    "    print(\"Two parents created\")\n",
    "    offspring = create_offspring(parent1,parent2,co_rate)\n",
    "    print(\"an offspring created\")\n",
    "    # Mutate offspring\n",
    "    for route in offspring.routes:\n",
    "        route.mutate(m_rate)\n",
    "    print(f\"Route mutated\")\n",
    "\n",
    "\n",
    "    # Calculate fitness for offspring\n",
    "    offspring_fitness = offspring.fitness_func()\n",
    "    print(f\"offspring fitness:{offspring_fitness}\")\n",
    "    print(\"offspring solution:\")\n",
    "    print(len(offspring.routes),offspring.total_distance,offspring.get_total_customers_served(),offspring.check_feasibility(),offspring.fitness_func())\n",
    "    print(\"-\"*50)\n",
    "\n",
    "    if offspring.get_total_customers_served()>100:\n",
    "        break\n",
    "\n",
    "    # Replace worst solution in population with offspring\n",
    "    pop_fitness = [sol.fitness_func() for sol in pop]\n",
    "\n",
    "    worst_idx = pop_fitness.index(min(pop_fitness))\n",
    "    print(f\"worest solution fitness:{pop_fitness[worst_idx]}\")\n",
    "\n",
    "\n",
    "    if offspring_fitness > pop_fitness[worst_idx]:\n",
    "        pop[worst_idx] = offspring\n",
    "\n",
    "\n",
    "    best_idx = pop_fitness.index(max(pop_fitness))\n",
    "    best_sol = pop[best_idx]\n",
    "\n",
    "    if best_sol.fitness_func() > best_sol_ever.fitness_func():\n",
    "        best_sol_ever = best_sol\n",
    "    print(\"best solution till now:\")\n",
    "    print(len(best_sol_ever.routes),best_sol_ever.get_total_solution_distance(),best_sol_ever.get_total_customers_served(),best_sol_ever.check_feasibility(),best_sol_ever.fitness_func())\n",
    "    print(\"-\"*50)\n"
   ]
  },
  {
   "cell_type": "code",
   "execution_count": 6,
   "metadata": {},
   "outputs": [
    {
     "name": "stdout",
     "output_type": "stream",
     "text": [
      "[15. 45. 17. 39. 87. 44.]\n",
      "[28. 29. 70. 53. 13. 77. 41. 54.]\n",
      "[69. 78. 71. 81.]\n",
      "[72. 35. 67. 36.]\n",
      "[32. 83. 63. 31. 89. 83.  9.]\n",
      "[100.  19.  86.  88.   7.  95. 100.]\n",
      "[40. 24. 68.]\n",
      "[98. 38. 97. 98.]\n",
      "[65. 50.]\n",
      "[73.  3. 16. 22. 76. 74. 23. 42. 58.]\n",
      "[60. 93. 43. 46.  6. 96. 84. 46. 62.]\n",
      "[57. 56. 55. 75.  5. 25. 26.]\n",
      "[ 2. 51. 27.  2.]\n",
      "[ 92. 101.  94.]\n",
      "[14. 90. 59.]\n",
      "[47. 18. 49.]\n",
      "[34. 30. 52. 80. 30. 79. 10.]\n",
      "[91. 11. 21. 33.]\n",
      "[32. 63. 31. 89.  8.]\n",
      "[100.  41.  19.  88.  54.   7.  95.]\n"
     ]
    }
   ],
   "source": [
    "for route in offspring.routes:\n",
    "    print(route.customers_ids)"
   ]
  },
  {
   "cell_type": "code",
   "execution_count": 7,
   "metadata": {},
   "outputs": [
    {
     "name": "stdout",
     "output_type": "stream",
     "text": [
      "customers array is empty?!\n"
     ]
    },
    {
     "ename": "IndexError",
     "evalue": "index 0 is out of bounds for axis 0 with size 0",
     "output_type": "error",
     "traceback": [
      "\u001b[1;31m---------------------------------------------------------------------------\u001b[0m",
      "\u001b[1;31mIndexError\u001b[0m                                Traceback (most recent call last)",
      "\u001b[1;32mC:\\Users\\ABDALL~1\\AppData\\Local\\Temp/ipykernel_11800/1621852968.py\u001b[0m in \u001b[0;36m<module>\u001b[1;34m\u001b[0m\n\u001b[1;32m----> 1\u001b[1;33m \u001b[0moffspring\u001b[0m\u001b[1;33m.\u001b[0m\u001b[0mprevent_duplicated_customers\u001b[0m\u001b[1;33m(\u001b[0m\u001b[1;33m)\u001b[0m\u001b[1;33m\u001b[0m\u001b[1;33m\u001b[0m\u001b[0m\n\u001b[0m",
      "\u001b[1;32me:\\Repository\\vrp problem\\Solution.py\u001b[0m in \u001b[0;36mprevent_duplicated_customers\u001b[1;34m(self)\u001b[0m\n\u001b[0;32m     43\u001b[0m             \u001b[0mroute_customers_array\u001b[0m \u001b[1;33m=\u001b[0m \u001b[0mnp\u001b[0m\u001b[1;33m.\u001b[0m\u001b[0mdelete\u001b[0m\u001b[1;33m(\u001b[0m\u001b[0mroute_customers_array\u001b[0m\u001b[1;33m,\u001b[0m \u001b[0mrows_to_delete\u001b[0m\u001b[1;33m,\u001b[0m \u001b[0maxis\u001b[0m\u001b[1;33m=\u001b[0m\u001b[1;36m0\u001b[0m\u001b[1;33m)\u001b[0m\u001b[1;33m\u001b[0m\u001b[1;33m\u001b[0m\u001b[0m\n\u001b[0;32m     44\u001b[0m             \u001b[0mself\u001b[0m\u001b[1;33m.\u001b[0m\u001b[0mroutes\u001b[0m\u001b[1;33m[\u001b[0m\u001b[0mroute_idx\u001b[0m\u001b[1;33m]\u001b[0m\u001b[1;33m.\u001b[0m\u001b[0mcustomers_array\u001b[0m \u001b[1;33m=\u001b[0m \u001b[0mroute_customers_array\u001b[0m\u001b[1;33m\u001b[0m\u001b[1;33m\u001b[0m\u001b[0m\n\u001b[1;32m---> 45\u001b[1;33m             \u001b[0mself\u001b[0m\u001b[1;33m.\u001b[0m\u001b[0mroutes\u001b[0m\u001b[1;33m[\u001b[0m\u001b[0mroute_idx\u001b[0m\u001b[1;33m]\u001b[0m\u001b[1;33m.\u001b[0m\u001b[0mupdate_route_variables\u001b[0m\u001b[1;33m(\u001b[0m\u001b[1;33m)\u001b[0m\u001b[1;33m\u001b[0m\u001b[1;33m\u001b[0m\u001b[0m\n\u001b[0m\u001b[0;32m     46\u001b[0m \u001b[1;33m\u001b[0m\u001b[0m\n\u001b[0;32m     47\u001b[0m         \u001b[0mself\u001b[0m\u001b[1;33m.\u001b[0m\u001b[0mupdate_variables\u001b[0m\u001b[1;33m(\u001b[0m\u001b[1;33m)\u001b[0m\u001b[1;33m\u001b[0m\u001b[1;33m\u001b[0m\u001b[0m\n",
      "\u001b[1;32me:\\Repository\\vrp problem\\Route.py\u001b[0m in \u001b[0;36mupdate_route_variables\u001b[1;34m(self)\u001b[0m\n\u001b[0;32m     81\u001b[0m         \u001b[0mself\u001b[0m\u001b[1;33m.\u001b[0m\u001b[0mget_route_distance\u001b[0m\u001b[1;33m(\u001b[0m\u001b[1;33m)\u001b[0m\u001b[1;33m\u001b[0m\u001b[1;33m\u001b[0m\u001b[0m\n\u001b[0;32m     82\u001b[0m         \u001b[0mself\u001b[0m\u001b[1;33m.\u001b[0m\u001b[0mcheck_capacity_constrain\u001b[0m\u001b[1;33m(\u001b[0m\u001b[1;33m)\u001b[0m\u001b[1;33m\u001b[0m\u001b[1;33m\u001b[0m\u001b[0m\n\u001b[1;32m---> 83\u001b[1;33m         \u001b[0mself\u001b[0m\u001b[1;33m.\u001b[0m\u001b[0mcheck_time_constrain\u001b[0m\u001b[1;33m(\u001b[0m\u001b[1;33m)\u001b[0m\u001b[1;33m\u001b[0m\u001b[1;33m\u001b[0m\u001b[0m\n\u001b[0m\u001b[0;32m     84\u001b[0m \u001b[1;33m\u001b[0m\u001b[0m\n\u001b[0;32m     85\u001b[0m     \u001b[1;32mdef\u001b[0m \u001b[0mmutate\u001b[0m\u001b[1;33m(\u001b[0m\u001b[0mself\u001b[0m\u001b[1;33m,\u001b[0m\u001b[0mmutation_rate\u001b[0m\u001b[1;33m)\u001b[0m\u001b[1;33m:\u001b[0m\u001b[1;33m\u001b[0m\u001b[1;33m\u001b[0m\u001b[0m\n",
      "\u001b[1;32me:\\Repository\\vrp problem\\Route.py\u001b[0m in \u001b[0;36mcheck_time_constrain\u001b[1;34m(self)\u001b[0m\n\u001b[0;32m     33\u001b[0m \u001b[1;33m\u001b[0m\u001b[0m\n\u001b[0;32m     34\u001b[0m         \u001b[0mself\u001b[0m\u001b[1;33m.\u001b[0m\u001b[0mtime_constrain\u001b[0m \u001b[1;33m=\u001b[0m \u001b[1;32mTrue\u001b[0m\u001b[1;33m\u001b[0m\u001b[1;33m\u001b[0m\u001b[0m\n\u001b[1;32m---> 35\u001b[1;33m         \u001b[0mself\u001b[0m\u001b[1;33m.\u001b[0m\u001b[0mcurrent_time\u001b[0m \u001b[1;33m=\u001b[0m \u001b[0mself\u001b[0m\u001b[1;33m.\u001b[0m\u001b[0mcustomers_array\u001b[0m\u001b[1;33m[\u001b[0m\u001b[1;36m0\u001b[0m\u001b[1;33m,\u001b[0m\u001b[1;36m4\u001b[0m\u001b[1;33m]\u001b[0m\u001b[1;33m\u001b[0m\u001b[1;33m\u001b[0m\u001b[0m\n\u001b[0m\u001b[0;32m     36\u001b[0m         \u001b[1;32mfor\u001b[0m \u001b[0mrow\u001b[0m \u001b[1;32min\u001b[0m \u001b[0mself\u001b[0m\u001b[1;33m.\u001b[0m\u001b[0mcustomers_array\u001b[0m\u001b[1;33m:\u001b[0m\u001b[1;33m\u001b[0m\u001b[1;33m\u001b[0m\u001b[0m\n\u001b[0;32m     37\u001b[0m             \u001b[1;32mif\u001b[0m \u001b[1;33m(\u001b[0m\u001b[1;32mnot\u001b[0m \u001b[0mself\u001b[0m\u001b[1;33m.\u001b[0m\u001b[0mcurrent_time\u001b[0m \u001b[1;33m<=\u001b[0m \u001b[0mrow\u001b[0m\u001b[1;33m[\u001b[0m\u001b[1;36m4\u001b[0m\u001b[1;33m]\u001b[0m\u001b[1;33m)\u001b[0m \u001b[1;32mor\u001b[0m \u001b[1;33m(\u001b[0m\u001b[1;32mnot\u001b[0m \u001b[0mself\u001b[0m\u001b[1;33m.\u001b[0m\u001b[0mcurrent_time\u001b[0m\u001b[1;33m<=\u001b[0m\u001b[0mrow\u001b[0m\u001b[1;33m[\u001b[0m\u001b[1;36m5\u001b[0m\u001b[1;33m]\u001b[0m\u001b[1;33m)\u001b[0m\u001b[1;33m:\u001b[0m\u001b[1;33m\u001b[0m\u001b[1;33m\u001b[0m\u001b[0m\n",
      "\u001b[1;31mIndexError\u001b[0m: index 0 is out of bounds for axis 0 with size 0"
     ]
    }
   ],
   "source": [
    "offspring.prevent_duplicated_customers()"
   ]
  },
  {
   "cell_type": "code",
   "execution_count": null,
   "metadata": {},
   "outputs": [],
   "source": []
  }
 ],
 "metadata": {
  "kernelspec": {
   "display_name": "base",
   "language": "python",
   "name": "python3"
  },
  "language_info": {
   "codemirror_mode": {
    "name": "ipython",
    "version": 3
   },
   "file_extension": ".py",
   "mimetype": "text/x-python",
   "name": "python",
   "nbconvert_exporter": "python",
   "pygments_lexer": "ipython3",
   "version": "3.8.8"
  },
  "orig_nbformat": 4
 },
 "nbformat": 4,
 "nbformat_minor": 2
}
